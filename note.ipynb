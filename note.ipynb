{
 "cells": [
  {
   "cell_type": "code",
   "execution_count": 2,
   "metadata": {},
   "outputs": [],
   "source": [
    "import pandas as pd\n",
    "import torch\n",
    "import torch.nn as nn\n",
    "import numpy as np\n",
    "import torch.nn.functional as F\n",
    "from sklearn.model_selection import train_test_split\n",
    "from sklearn.feature_extraction.text import TfidfVectorizer\n",
    "import nltk\n",
    "from nltk.corpus import stopwords\n",
    "from pymorphy2 import MorphAnalyzer\n",
    "import re\n",
    "import nltk\n",
    "from pymorphy3 import MorphAnalyzer\n",
    "from nltk.corpus import stopwords\n",
    "from collections import defaultdict\n",
    "from sklearn.feature_extraction.text import CountVectorizer\n",
    "from sklearn.model_selection import train_test_split"
   ]
  },
  {
   "cell_type": "code",
   "execution_count": 3,
   "metadata": {},
   "outputs": [],
   "source": [
    "patterns = \"[«»A-Za-z0-9!#$%&'()*+,./:;<=>?@[\\]^_`{|}~—\\\"\\-]+\"\n",
    "stopwords_ru = stopwords.words(\"russian\")\n",
    "morph = MorphAnalyzer()"
   ]
  },
  {
   "cell_type": "code",
   "execution_count": 4,
   "metadata": {},
   "outputs": [],
   "source": [
    "df_csv = pd.read_csv(r\"C:\\Users\\natal\\lab_2_python\\annotation1.csv\")\n",
    "texts = []\n",
    "for absolute_path, rating in zip(df_csv['absolute_path'], df_csv['rating']):\n",
    "    with open(absolute_path, 'r', encoding='utf-8') as file:\n",
    "        text = file.read()\n",
    "        texts.append((text, rating))\n",
    "        \n",
    "df = pd.DataFrame(texts, columns=['review', 'rating'])"
   ]
  },
  {
   "cell_type": "code",
   "execution_count": 5,
   "metadata": {},
   "outputs": [
    {
     "name": "stdout",
     "output_type": "stream",
     "text": [
      "                                                 review  rating\n",
      "0     Архимаг ищет невесту\\nМного читала академок, р...       0\n",
      "1     Манюня\\nВсё, что нужно знать об уровне юмора э...       0\n",
      "2     Удивительный Александр и крылатые кошки\\nПочем...       0\n",
      "3     Бездушный принц\\nЗахотелось прочитать какую-ни...       0\n",
      "4     Душа осьминога. Тайны сознания удивительного с...       0\n",
      "...                                                 ...     ...\n",
      "5000  Спаси меня от холода ночи\\nЖизнь деревни Каслд...       4\n",
      "5001  Витаминка\\nКаково это быть купидоном? Это волш...       4\n",
      "5002  Цветок в мужской академии магии\\nХотела бы рас...       4\n",
      "5003  Господин Неудача\\nПосле загадочной гибели роди...       4\n",
      "5004  Кай\\n\"Прежде чем войти куда-то, убедись, что т...       4\n",
      "\n",
      "[5005 rows x 2 columns]\n"
     ]
    }
   ],
   "source": [
    "df['rating'] = df['rating'].replace({1: 0, 2: 1, 3: 2, 4: 3, 5: 4})\n",
    "print(df)"
   ]
  },
  {
   "cell_type": "code",
   "execution_count": 13,
   "metadata": {},
   "outputs": [],
   "source": [
    "def lemmatize(review: str):\n",
    "    review = re.sub(patterns, ' ', review)\n",
    "    tokens = nltk.word_tokenize(review.lower())\n",
    "    preprocessed_text = []\n",
    "    for token in tokens:\n",
    "        lemma = morph.parse(token)[0].normal_form\n",
    "        if lemma not in stopwords_ru:\n",
    "            preprocessed_text.append(lemma)\n",
    "    return preprocessed_text"
   ]
  },
  {
   "cell_type": "code",
   "execution_count": 14,
   "metadata": {},
   "outputs": [
    {
     "name": "stdout",
     "output_type": "stream",
     "text": [
      "                                              review  rating\n",
      "0  [архимаг, искать, невеста, читать, академка, р...       1\n",
      "1  [манюнить, всё, нужно, знать, уровень, юмор, к...       1\n",
      "2  [удивительный, александр, крылатый, кошка, поч...       1\n",
      "3  [бездушный, принц, захотеться, прочитать, нибы...       1\n",
      "4  [душа, осьминог, тайна, сознание, удивительный...       1\n"
     ]
    }
   ],
   "source": [
    "df['review'] = df['review'].apply(lemmatize)\n",
    "print(df.head())"
   ]
  },
  {
   "cell_type": "code",
   "execution_count": 17,
   "metadata": {},
   "outputs": [],
   "source": [
    "def join_lemmatized_words(words_list):\n",
    "    return ' '.join(words_list)"
   ]
  },
  {
   "cell_type": "code",
   "execution_count": 18,
   "metadata": {},
   "outputs": [],
   "source": [
    "df['review'] = df['review'].apply(join_lemmatized_words)"
   ]
  },
  {
   "cell_type": "code",
   "execution_count": 6,
   "metadata": {},
   "outputs": [
    {
     "name": "stdout",
     "output_type": "stream",
     "text": [
      "[[0 0 0 ... 0 0 0]\n",
      " [0 0 0 ... 0 0 0]\n",
      " [0 0 0 ... 0 0 0]\n",
      " ...\n",
      " [0 0 0 ... 0 0 0]\n",
      " [0 0 0 ... 0 0 0]\n",
      " [0 0 0 ... 0 0 0]]\n"
     ]
    }
   ],
   "source": [
    "max_words = 10000\n",
    "vectorizer = CountVectorizer(max_features=max_words, stop_words=stopwords_ru)\n",
    "sparse_matrix = vectorizer.fit_transform(df['review']).toarray()\n",
    "print(sparse_matrix)"
   ]
  },
  {
   "cell_type": "code",
   "execution_count": 20,
   "metadata": {},
   "outputs": [
    {
     "name": "stdout",
     "output_type": "stream",
     "text": [
      "(4004, 46381)\n",
      "(501, 46381)\n",
      "(500, 46381)\n"
     ]
    }
   ],
   "source": [
    "train, test_valid = train_test_split(sparse_matrix, np.array(df['rating']) test_size=0.2)\n",
    "test, valid = train_test_split(test_valid, test_size=0.5)\n",
    "\n",
    "print(train.shape)\n",
    "print(valid.shape)\n",
    "print(test.shape)\n"
   ]
  },
  {
   "cell_type": "code",
   "execution_count": null,
   "metadata": {},
   "outputs": [],
   "source": [
    "class LogisticRegression(nn.Module):\n",
    "    def __init__(self):\n",
    "        super(LogisticRegression, self).__init__()\n",
    "        self.linear1 = nn.Linear(10000, 100)\n",
    "        self.linear2 = nn.Linear(100, 10)\n",
    "        self.linear3 = nn.Linear(10, 5) #soft max [0.1, 0.2, 0.2, 0.4, 0.1]\n",
    "\n",
    "    def forward(self, x):\n",
    "        x = F.relu(self.linear1(x))\n",
    "        x = F.relu(self.linear2(x))\n",
    "        x = self.linear3(x)\n",
    "        return x\n"
   ]
  }
 ],
 "metadata": {
  "kernelspec": {
   "display_name": "base",
   "language": "python",
   "name": "python3"
  },
  "language_info": {
   "codemirror_mode": {
    "name": "ipython",
    "version": 3
   },
   "file_extension": ".py",
   "mimetype": "text/x-python",
   "name": "python",
   "nbconvert_exporter": "python",
   "pygments_lexer": "ipython3",
   "version": "3.11.4"
  }
 },
 "nbformat": 4,
 "nbformat_minor": 2
}
